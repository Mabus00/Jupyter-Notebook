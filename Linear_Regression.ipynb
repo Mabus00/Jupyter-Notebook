{
 "cells": [
  {
   "cell_type": "code",
   "execution_count": 71,
   "metadata": {},
   "outputs": [
    {
     "name": "stdout",
     "output_type": "stream",
     "text": [
      "Using TensorFlow version 2.11.0\n"
     ]
    }
   ],
   "source": [
    "import matplotlib.pyplot as plt\n",
    "import numpy as np\n",
    "import tensorflow as tf\n",
    "import tensorflow.experimental.numpy as tnp\n",
    "import timeit\n",
    "\n",
    "print(\"Using TensorFlow version %s\" % tf.__version__)"
   ]
  },
  {
   "cell_type": "code",
   "execution_count": 72,
   "metadata": {},
   "outputs": [],
   "source": [
    "tensor1 = tf.ones([1,2,3])  # tf.ones() creates a shape [1,2,3] tensor full of ones"
   ]
  },
  {
   "cell_type": "code",
   "execution_count": 73,
   "metadata": {},
   "outputs": [
    {
     "data": {
      "text/plain": [
       "TensorShape([1, 2, 3])"
      ]
     },
     "execution_count": 73,
     "metadata": {},
     "output_type": "execute_result"
    }
   ],
   "source": [
    "tensor1.shape"
   ]
  },
  {
   "cell_type": "code",
   "execution_count": 74,
   "metadata": {},
   "outputs": [
    {
     "name": "stdout",
     "output_type": "stream",
     "text": [
      "tf.Tensor(\n",
      "[[[1. 1. 1.]\n",
      "  [1. 1. 1.]]], shape=(1, 2, 3), dtype=float32)\n"
     ]
    }
   ],
   "source": [
    "print(tensor1)"
   ]
  },
  {
   "cell_type": "code",
   "execution_count": 75,
   "metadata": {},
   "outputs": [],
   "source": [
    "tensor2 = tf.ones([2,3])  # tf.ones() creates a shape [1,2,3] tensor full of ones"
   ]
  },
  {
   "cell_type": "code",
   "execution_count": 76,
   "metadata": {},
   "outputs": [
    {
     "name": "stdout",
     "output_type": "stream",
     "text": [
      "tf.Tensor(\n",
      "[[1. 1. 1.]\n",
      " [1. 1. 1.]], shape=(2, 3), dtype=float32)\n"
     ]
    }
   ],
   "source": [
    "print(tensor2)"
   ]
  },
  {
   "cell_type": "code",
   "execution_count": 77,
   "metadata": {},
   "outputs": [
    {
     "data": {
      "text/plain": [
       "TensorShape([2, 3])"
      ]
     },
     "execution_count": 77,
     "metadata": {},
     "output_type": "execute_result"
    }
   ],
   "source": [
    "tensor2.shape"
   ]
  },
  {
   "cell_type": "code",
   "execution_count": 78,
   "metadata": {},
   "outputs": [
    {
     "data": {
      "text/plain": [
       "[0, 6, 0, 20]"
      ]
     },
     "execution_count": 78,
     "metadata": {},
     "output_type": "execute_result"
    },
    {
     "data": {
      "image/png": "[encoded data removed]",
      "text/plain": [
       "<Figure size 432x288 with 1 Axes>"
      ]
     },
     "metadata": {
      "needs_background": "light"
     },
     "output_type": "display_data"
    }
   ],
   "source": [
    "x = [1, 2, 2.5, 3, 4]\n",
    "y = [1, 4, 7, 9, 15]\n",
    "plt.plot(x, y, 'ro')\n",
    "plt.axis([0, 6, 0, 20])"
   ]
  },
  {
   "cell_type": "code",
   "execution_count": 79,
   "metadata": {},
   "outputs": [
    {
     "data": {
      "image/png": "[encoded data removed]",
      "text/plain": [
       "<Figure size 432x288 with 1 Axes>"
      ]
     },
     "metadata": {
      "needs_background": "light"
     },
     "output_type": "display_data"
    }
   ],
   "source": [
    "plt.plot(x, y, 'ro')\n",
    "plt.axis([0, 6, 0, 20])\n",
    "plt.plot(np.unique(x), np.poly1d(np.polyfit(x, y, 1))(np.unique(x)))\n",
    "plt.show()"
   ]
  },
  {
   "cell_type": "code",
   "execution_count": 80,
   "metadata": {},
   "outputs": [],
   "source": [
    "!pip install -q sklearn"
   ]
  },
  {
   "cell_type": "code",
   "execution_count": 81,
   "metadata": {},
   "outputs": [],
   "source": [
    "from __future__ import absolute_import, division, print_function, unicode_literals\n",
    "\n",
    "import pandas as pd\n",
    "from IPython.display import clear_output\n",
    "from six.moves import urllib\n",
    "\n",
    "import tensorflow.compat.v2.feature_column as fc\n"
   ]
  },
  {
   "cell_type": "code",
   "execution_count": 82,
   "metadata": {},
   "outputs": [],
   "source": [
    "# Load dataset.\n",
    "dftrain = pd.read_csv('https://storage.googleapis.com/tf-datasets/titanic/train.csv') # training data\n",
    "dfeval = pd.read_csv('https://storage.googleapis.com/tf-datasets/titanic/eval.csv') # testing data\n",
    "y_train = dftrain.pop('survived')\n",
    "y_eval = dfeval.pop('survived')"
   ]
  },
  {
   "cell_type": "code",
   "execution_count": 83,
   "metadata": {},
   "outputs": [
    {
     "name": "stdout",
     "output_type": "stream",
     "text": [
      "<class 'pandas.core.frame.DataFrame'>\n",
      "RangeIndex: 627 entries, 0 to 626\n",
      "Data columns (total 9 columns):\n",
      " #   Column              Non-Null Count  Dtype  \n",
      "---  ------              --------------  -----  \n",
      " 0   sex                 627 non-null    object \n",
      " 1   age                 627 non-null    float64\n",
      " 2   n_siblings_spouses  627 non-null    int64  \n",
      " 3   parch               627 non-null    int64  \n",
      " 4   fare                627 non-null    float64\n",
      " 5   class               627 non-null    object \n",
      " 6   deck                627 non-null    object \n",
      " 7   embark_town         627 non-null    object \n",
      " 8   alone               627 non-null    object \n",
      "dtypes: float64(2), int64(2), object(5)\n",
      "memory usage: 44.2+ KB\n"
     ]
    }
   ],
   "source": [
    "dftrain.info()"
   ]
  },
  {
   "cell_type": "code",
   "execution_count": 84,
   "metadata": {},
   "outputs": [
    {
     "data": {
      "text/html": [
       "<div>\n",
       "<style scoped>\n",
       "    .dataframe tbody tr th:only-of-type {\n",
       "        vertical-align: middle;\n",
       "    }\n",
       "\n",
       "    .dataframe tbody tr th {\n",
       "        vertical-align: top;\n",
       "    }\n",
       "\n",
       "    .dataframe thead th {\n",
       "        text-align: right;\n",
       "    }\n",
       "</style>\n",
       "<table border=\"1\" class=\"dataframe\">\n",
       "  <thead>\n",
       "    <tr style=\"text-align: right;\">\n",
       "      <th></th>\n",
       "      <th>sex</th>\n",
       "      <th>age</th>\n",
       "      <th>n_siblings_spouses</th>\n",
       "      <th>parch</th>\n",
       "      <th>fare</th>\n",
       "      <th>class</th>\n",
       "      <th>deck</th>\n",
       "      <th>embark_town</th>\n",
       "      <th>alone</th>\n",
       "    </tr>\n",
       "  </thead>\n",
       "  <tbody>\n",
       "    <tr>\n",
       "      <th>0</th>\n",
       "      <td>male</td>\n",
       "      <td>22.0</td>\n",
       "      <td>1</td>\n",
       "      <td>0</td>\n",
       "      <td>7.2500</td>\n",
       "      <td>Third</td>\n",
       "      <td>unknown</td>\n",
       "      <td>Southampton</td>\n",
       "      <td>n</td>\n",
       "    </tr>\n",
       "    <tr>\n",
       "      <th>1</th>\n",
       "      <td>female</td>\n",
       "      <td>38.0</td>\n",
       "      <td>1</td>\n",
       "      <td>0</td>\n",
       "      <td>71.2833</td>\n",
       "      <td>First</td>\n",
       "      <td>C</td>\n",
       "      <td>Cherbourg</td>\n",
       "      <td>n</td>\n",
       "    </tr>\n",
       "    <tr>\n",
       "      <th>2</th>\n",
       "      <td>female</td>\n",
       "      <td>26.0</td>\n",
       "      <td>0</td>\n",
       "      <td>0</td>\n",
       "      <td>7.9250</td>\n",
       "      <td>Third</td>\n",
       "      <td>unknown</td>\n",
       "      <td>Southampton</td>\n",
       "      <td>y</td>\n",
       "    </tr>\n",
       "    <tr>\n",
       "      <th>3</th>\n",
       "      <td>female</td>\n",
       "      <td>35.0</td>\n",
       "      <td>1</td>\n",
       "      <td>0</td>\n",
       "      <td>53.1000</td>\n",
       "      <td>First</td>\n",
       "      <td>C</td>\n",
       "      <td>Southampton</td>\n",
       "      <td>n</td>\n",
       "    </tr>\n",
       "    <tr>\n",
       "      <th>4</th>\n",
       "      <td>male</td>\n",
       "      <td>28.0</td>\n",
       "      <td>0</td>\n",
       "      <td>0</td>\n",
       "      <td>8.4583</td>\n",
       "      <td>Third</td>\n",
       "      <td>unknown</td>\n",
       "      <td>Queenstown</td>\n",
       "      <td>y</td>\n",
       "    </tr>\n",
       "  </tbody>\n",
       "</table>\n",
       "</div>"
      ],
      "text/plain": [
       "      sex   age  n_siblings_spouses  parch     fare  class     deck  \\\n",
       "0    male  22.0                   1      0   7.2500  Third  unknown   \n",
       "1  female  38.0                   1      0  71.2833  First        C   \n",
       "2  female  26.0                   0      0   7.9250  Third  unknown   \n",
       "3  female  35.0                   1      0  53.1000  First        C   \n",
       "4    male  28.0                   0      0   8.4583  Third  unknown   \n",
       "\n",
       "   embark_town alone  \n",
       "0  Southampton     n  \n",
       "1    Cherbourg     n  \n",
       "2  Southampton     y  \n",
       "3  Southampton     n  \n",
       "4   Queenstown     y  "
      ]
     },
     "execution_count": 84,
     "metadata": {},
     "output_type": "execute_result"
    }
   ],
   "source": [
    "dftrain.head()"
   ]
  },
  {
   "cell_type": "code",
   "execution_count": 85,
   "metadata": {},
   "outputs": [
    {
     "data": {
      "text/plain": [
       "(627, 9)"
      ]
     },
     "execution_count": 85,
     "metadata": {},
     "output_type": "execute_result"
    }
   ],
   "source": [
    "dftrain.shape"
   ]
  },
  {
   "cell_type": "code",
   "execution_count": 86,
   "metadata": {},
   "outputs": [
    {
     "data": {
      "image/png": "[encoded data removed]",
      "text/plain": [
       "<Figure size 864x288 with 2 Axes>"
      ]
     },
     "metadata": {
      "needs_background": "light"
     },
     "output_type": "display_data"
    }
   ],
   "source": [
    "import seaborn as sns\n",
    "\n",
    "dftrain_with_sur = pd.read_csv('https://storage.googleapis.com/tf-datasets/titanic/train.csv') # training data\n",
    "fig, ax = plt.subplots(1, 2, figsize=(12, 4))\n",
    "dftrain_with_sur['survived'].value_counts().plot.pie(\n",
    "    explode=[0, 0.1], autopct='%1.1f%%', ax=ax[0], shadow=False)\n",
    "ax[0].set_title('Survivors (1) and the dead (0)')\n",
    "ax[0].set_ylabel('')\n",
    "sns.countplot('survived', data=dftrain_with_sur, ax=ax[1])\n",
    "ax[1].set_ylabel('Quantity')\n",
    "ax[1].set_title('Survivors (1) and the dead (0)')\n",
    "plt.show()"
   ]
  },
  {
   "cell_type": "code",
   "execution_count": 137,
   "metadata": {},
   "outputs": [
    {
     "data": {
      "text/html": [
       "<div>\n",
       "<style scoped>\n",
       "    .dataframe tbody tr th:only-of-type {\n",
       "        vertical-align: middle;\n",
       "    }\n",
       "\n",
       "    .dataframe tbody tr th {\n",
       "        vertical-align: top;\n",
       "    }\n",
       "\n",
       "    .dataframe thead th {\n",
       "        text-align: right;\n",
       "    }\n",
       "</style>\n",
       "<table border=\"1\" class=\"dataframe\">\n",
       "  <thead>\n",
       "    <tr style=\"text-align: right;\">\n",
       "      <th>class</th>\n",
       "      <th>First</th>\n",
       "      <th>Second</th>\n",
       "      <th>Third</th>\n",
       "    </tr>\n",
       "    <tr>\n",
       "      <th>sex</th>\n",
       "      <th></th>\n",
       "      <th></th>\n",
       "      <th></th>\n",
       "    </tr>\n",
       "  </thead>\n",
       "  <tbody>\n",
       "    <tr>\n",
       "      <th>female</th>\n",
       "      <td>0.971014</td>\n",
       "      <td>0.909091</td>\n",
       "      <td>0.559140</td>\n",
       "    </tr>\n",
       "    <tr>\n",
       "      <th>male</th>\n",
       "      <td>0.377778</td>\n",
       "      <td>0.111111</td>\n",
       "      <td>0.129032</td>\n",
       "    </tr>\n",
       "  </tbody>\n",
       "</table>\n",
       "</div>"
      ],
      "text/plain": [
       "class      First    Second     Third\n",
       "sex                                 \n",
       "female  0.971014  0.909091  0.559140\n",
       "male    0.377778  0.111111  0.129032"
      ]
     },
     "execution_count": 137,
     "metadata": {},
     "output_type": "execute_result"
    }
   ],
   "source": [
    "#Look at survival rate by sex and class\n",
    "dftrain_with_sur.pivot_table('survived', index='sex', columns='class')"
   ]
  },
  {
   "cell_type": "code",
   "execution_count": 138,
   "metadata": {},
   "outputs": [
    {
     "data": {
      "text/plain": [
       "<matplotlib.axes._subplots.AxesSubplot at 0x3f8cb860>"
      ]
     },
     "execution_count": 138,
     "metadata": {},
     "output_type": "execute_result"
    },
    {
     "data": {
      "image/png": "[encoded data removed]",
      "text/plain": [
       "<Figure size 432x288 with 1 Axes>"
      ]
     },
     "metadata": {
      "needs_background": "light"
     },
     "output_type": "display_data"
    }
   ],
   "source": [
    "#Look at survival rate by sex and class visually\n",
    "dftrain_with_sur.pivot_table('survived', index='sex', columns='class').plot()"
   ]
  },
  {
   "cell_type": "code",
   "execution_count": 87,
   "metadata": {},
   "outputs": [
    {
     "data": {
      "text/plain": [
       "<matplotlib.axes._subplots.AxesSubplot at 0x386170f0>"
      ]
     },
     "execution_count": 87,
     "metadata": {},
     "output_type": "execute_result"
    },
    {
     "data": {
      "image/png": "[encoded data removed]",
      "text/plain": [
       "<Figure size 432x288 with 1 Axes>"
      ]
     },
     "metadata": {
      "needs_background": "light"
     },
     "output_type": "display_data"
    }
   ],
   "source": [
    "dftrain.age.hist(bins=20)"
   ]
  },
  {
   "cell_type": "code",
   "execution_count": 88,
   "metadata": {},
   "outputs": [
    {
     "data": {
      "text/plain": [
       "<matplotlib.axes._subplots.AxesSubplot at 0x38609400>"
      ]
     },
     "execution_count": 88,
     "metadata": {},
     "output_type": "execute_result"
    },
    {
     "data": {
      "image/png": "[encoded data removed]",
      "text/plain": [
       "<Figure size 432x288 with 1 Axes>"
      ]
     },
     "metadata": {
      "needs_background": "light"
     },
     "output_type": "display_data"
    }
   ],
   "source": [
    "dftrain.sex.value_counts().plot(kind='barh')"
   ]
  },
  {
   "cell_type": "code",
   "execution_count": 89,
   "metadata": {},
   "outputs": [
    {
     "data": {
      "text/plain": [
       "<matplotlib.axes._subplots.AxesSubplot at 0x3bd83588>"
      ]
     },
     "execution_count": 89,
     "metadata": {},
     "output_type": "execute_result"
    },
    {
     "data": {
      "image/png": "[encoded data removed]",
      "text/plain": [
       "<Figure size 432x288 with 1 Axes>"
      ]
     },
     "metadata": {
      "needs_background": "light"
     },
     "output_type": "display_data"
    }
   ],
   "source": [
    "dftrain['class'].value_counts().plot(kind='barh')"
   ]
  },
  {
   "cell_type": "code",
   "execution_count": 90,
   "metadata": {},
   "outputs": [
    {
     "data": {
      "text/plain": [
       "Text(0.5, 0, '% survive')"
      ]
     },
     "execution_count": 90,
     "metadata": {},
     "output_type": "execute_result"
    },
    {
     "data": {
      "image/png": "[encoded data removed]",
      "text/plain": [
       "<Figure size 432x288 with 1 Axes>"
      ]
     },
     "metadata": {
      "needs_background": "light"
     },
     "output_type": "display_data"
    }
   ],
   "source": [
    "pd.concat([dftrain, y_train], axis=1).groupby('sex').survived.mean().plot(kind='barh').set_xlabel('% survive')"
   ]
  },
  {
   "cell_type": "code",
   "execution_count": 91,
   "metadata": {},
   "outputs": [
    {
     "name": "stdout",
     "output_type": "stream",
     "text": [
      "[VocabularyListCategoricalColumn(key='sex', vocabulary_list=('male', 'female'), dtype=tf.string, default_value=-1, num_oov_buckets=0), VocabularyListCategoricalColumn(key='n_siblings_spouses', vocabulary_list=(1, 0, 3, 4, 2, 5, 8), dtype=tf.int64, default_value=-1, num_oov_buckets=0), VocabularyListCategoricalColumn(key='parch', vocabulary_list=(0, 1, 2, 5, 3, 4), dtype=tf.int64, default_value=-1, num_oov_buckets=0), VocabularyListCategoricalColumn(key='class', vocabulary_list=('Third', 'First', 'Second'), dtype=tf.string, default_value=-1, num_oov_buckets=0), VocabularyListCategoricalColumn(key='deck', vocabulary_list=('unknown', 'C', 'G', 'A', 'B', 'D', 'F', 'E'), dtype=tf.string, default_value=-1, num_oov_buckets=0), VocabularyListCategoricalColumn(key='embark_town', vocabulary_list=('Southampton', 'Cherbourg', 'Queenstown', 'unknown'), dtype=tf.string, default_value=-1, num_oov_buckets=0), VocabularyListCategoricalColumn(key='alone', vocabulary_list=('n', 'y'), dtype=tf.string, default_value=-1, num_oov_buckets=0), NumericColumn(key='age', shape=(1,), default_value=None, dtype=tf.float32, normalizer_fn=None), NumericColumn(key='fare', shape=(1,), default_value=None, dtype=tf.float32, normalizer_fn=None)]\n"
     ]
    }
   ],
   "source": [
    "CATEGORICAL_COLUMNS = ['sex', 'n_siblings_spouses', 'parch', 'class', 'deck',\n",
    "                       'embark_town', 'alone']\n",
    "NUMERIC_COLUMNS = ['age','fare']\n",
    "\n",
    "feature_columns = []\n",
    "for feature_name in CATEGORICAL_COLUMNS:\n",
    "  vocabulary = dftrain[feature_name].unique()  # gets a list of all unique values from given feature column\n",
    "  feature_columns.append(tf.feature_column.categorical_column_with_vocabulary_list(feature_name, vocabulary))\n",
    "\n",
    "for feature_name in NUMERIC_COLUMNS:\n",
    "  feature_columns.append(tf.feature_column.numeric_column(feature_name, dtype=tf.float32))\n",
    "\n",
    "print(feature_columns)"
   ]
  },
  {
   "cell_type": "code",
   "execution_count": 92,
   "metadata": {},
   "outputs": [],
   "source": [
    "def make_input_fn(data_df, label_df, num_epochs=10, shuffle=True, batch_size=32):\n",
    "  def input_function():  # inner function, this will be returned\n",
    "    ds = tf.data.Dataset.from_tensor_slices((dict(data_df), label_df))  # create tf.data.Dataset object with data and its label\n",
    "    if shuffle:\n",
    "      ds = ds.shuffle(1000)  # randomize order of data\n",
    "    ds = ds.batch(batch_size).repeat(num_epochs)  # split dataset into batches of 32 and repeat process for number of epochs\n",
    "    return ds  # return a batch of the dataset\n",
    "  return input_function  # return a function object for use\n",
    "\n",
    "train_input_fn = make_input_fn(dftrain, y_train)  # here we will call the input_function that was returned to us to get a dataset object we can feed to the model\n",
    "eval_input_fn = make_input_fn(dfeval, y_eval, num_epochs=1, shuffle=False)\n"
   ]
  },
  {
   "cell_type": "code",
   "execution_count": 93,
   "metadata": {},
   "outputs": [
    {
     "name": "stdout",
     "output_type": "stream",
     "text": [
      "Some feature keys: ['sex', 'age', 'n_siblings_spouses', 'parch', 'fare', 'class', 'deck', 'embark_town', 'alone']\n",
      "\n",
      "A batch of class: [b'Third' b'First' b'First' b'First' b'First' b'Second' b'First' b'Third'\n",
      " b'Third' b'Third']\n",
      "\n",
      "A batch of Labels: [0 0 1 1 1 1 1 0 0 1]\n"
     ]
    }
   ],
   "source": [
    "ds = make_input_fn(dftrain, y_train, batch_size=10)()\n",
    "for feature_batch, label_batch in ds.take(1):\n",
    "  print('Some feature keys:', list(feature_batch.keys()))\n",
    "  print()\n",
    "  print('A batch of class:', feature_batch['class'].numpy())\n",
    "  print()\n",
    "  print('A batch of Labels:', label_batch.numpy())"
   ]
  },
  {
   "cell_type": "code",
   "execution_count": 94,
   "metadata": {},
   "outputs": [
    {
     "name": "stdout",
     "output_type": "stream",
     "text": [
      "sex\n",
      "n_siblings_spouses\n",
      "parch\n",
      "class\n",
      "deck\n",
      "embark_town\n",
      "alone\n",
      "age\n",
      "fare\n"
     ]
    }
   ],
   "source": [
    "for num in range(0, 9):\n",
    "    print(feature_columns[num].key)"
   ]
  },
  {
   "cell_type": "code",
   "execution_count": 95,
   "metadata": {},
   "outputs": [
    {
     "data": {
      "text/plain": [
       "array([[ 19.9667],\n",
       "       [ 26.55  ],\n",
       "       [ 56.9292],\n",
       "       [ 26.55  ],\n",
       "       [ 30.    ],\n",
       "       [ 41.5792],\n",
       "       [164.8667],\n",
       "       [  7.8958],\n",
       "       [  7.75  ],\n",
       "       [ 12.475 ]], dtype=float32)"
      ]
     },
     "execution_count": 95,
     "metadata": {},
     "output_type": "execute_result"
    }
   ],
   "source": [
    "age_column = feature_columns[8]\n",
    "tf.keras.layers.DenseFeatures([age_column])(feature_batch).numpy()"
   ]
  },
  {
   "cell_type": "code",
   "execution_count": 96,
   "metadata": {
    "scrolled": true
   },
   "outputs": [
    {
     "name": "stdout",
     "output_type": "stream",
     "text": [
      "INFO:tensorflow:Using default config.\n",
      "WARNING:tensorflow:Using temporary folder as model directory: C:\\Users\\GEO_AD~1\\AppData\\Local\\Temp\\tmpi149ioft\n",
      "INFO:tensorflow:Using config: {'_model_dir': 'C:\\\\Users\\\\GEO_AD~1\\\\AppData\\\\Local\\\\Temp\\\\tmpi149ioft', '_tf_random_seed': None, '_save_summary_steps': 100, '_save_checkpoints_steps': None, '_save_checkpoints_secs': 600, '_session_config': allow_soft_placement: true\n",
      "graph_options {\n",
      "  rewrite_options {\n",
      "    meta_optimizer_iterations: ONE\n",
      "  }\n",
      "}\n",
      ", '_keep_checkpoint_max': 5, '_keep_checkpoint_every_n_hours': 10000, '_log_step_count_steps': 100, '_train_distribute': None, '_device_fn': None, '_protocol': None, '_eval_distribute': None, '_experimental_distribute': None, '_experimental_max_worker_delay_secs': None, '_session_creation_timeout_secs': 7200, '_checkpoint_save_graph_def': True, '_service': None, '_cluster_spec': ClusterSpec({}), '_task_type': 'worker', '_task_id': 0, '_global_id_in_cluster': 0, '_master': '', '_evaluation_master': '', '_is_chief': True, '_num_ps_replicas': 0, '_num_worker_replicas': 1}\n"
     ]
    }
   ],
   "source": [
    "linear_est = tf.estimator.LinearClassifier(feature_columns=feature_columns)\n",
    "# We create a linear estimator by passing the feature columns we created earlier"
   ]
  },
  {
   "cell_type": "code",
   "execution_count": 97,
   "metadata": {},
   "outputs": [
    {
     "name": "stdout",
     "output_type": "stream",
     "text": [
      "<tensorflow_estimator.python.estimator.canned.linear.LinearClassifierV2 object at 0x000000003BDA5748>\n"
     ]
    }
   ],
   "source": [
    "print(linear_est)"
   ]
  },
  {
   "cell_type": "code",
   "execution_count": 98,
   "metadata": {},
   "outputs": [
    {
     "name": "stdout",
     "output_type": "stream",
     "text": [
      "0.7386364\n"
     ]
    }
   ],
   "source": [
    "linear_est.train(train_input_fn)  # train\n",
    "result = linear_est.evaluate(eval_input_fn)  # get model metrics/stats by testing on tetsing data\n",
    "\n",
    "clear_output()  # clears consoke output\n",
    "print(result['accuracy'])  # the result variable is simply a dict of stats about our model"
   ]
  },
  {
   "cell_type": "code",
   "execution_count": 99,
   "metadata": {},
   "outputs": [
    {
     "name": "stdout",
     "output_type": "stream",
     "text": [
      "INFO:tensorflow:Calling model_fn.\n",
      "INFO:tensorflow:Done calling model_fn.\n",
      "INFO:tensorflow:Graph was finalized.\n",
      "INFO:tensorflow:Restoring parameters from C:\\Users\\GEO_AD~1\\AppData\\Local\\Temp\\tmpi149ioft\\model.ckpt-200\n",
      "INFO:tensorflow:Running local_init_op.\n",
      "INFO:tensorflow:Done running local_init_op.\n"
     ]
    },
    {
     "data": {
      "text/plain": [
       "<matplotlib.axes._subplots.AxesSubplot at 0x3f858438>"
      ]
     },
     "execution_count": 99,
     "metadata": {},
     "output_type": "execute_result"
    },
    {
     "data": {
      "image/png": "[encoded data removed]",
      "text/plain": [
       "<Figure size 432x288 with 1 Axes>"
      ]
     },
     "metadata": {
      "needs_background": "light"
     },
     "output_type": "display_data"
    }
   ],
   "source": [
    "pred_dicts = list(linear_est.predict(eval_input_fn))\n",
    "probs = pd.Series([pred['probabilities'][1] for pred in pred_dicts])\n",
    "\n",
    "probs.plot(kind='hist', bins=20, title='predicted probabilities')"
   ]
  },
  {
   "cell_type": "code",
   "execution_count": 136,
   "metadata": {},
   "outputs": [
    {
     "name": "stdout",
     "output_type": "stream",
     "text": [
      "[0.86117154 0.13882853]\n",
      "[0.2895729 0.7104271]\n",
      "[0.10532162 0.89467835]\n",
      "[0.17232004 0.82768   ]\n",
      "[0.5805811  0.41941884]\n",
      "[0.20281467 0.7971853 ]\n",
      "[0.31756786 0.68243206]\n",
      "[0.83760315 0.16239683]\n",
      "[0.2761423 0.7238577]\n",
      "[0.2120056 0.7879943]\n",
      "[0.23299219 0.7670078 ]\n",
      "[0.83832437 0.16167565]\n",
      "[0.09215167 0.90784836]\n",
      "[0.41672242 0.5832776 ]\n",
      "[0.09991685 0.9000831 ]\n",
      "[0.23123561 0.7687644 ]\n",
      "[0.7266496  0.27335036]\n",
      "[0.12418895 0.875811  ]\n",
      "[0.44887936 0.5511207 ]\n",
      "[0.8514426  0.14855745]\n",
      "[0.8363722  0.16362782]\n",
      "[0.83626485 0.16373508]\n",
      "[0.2593981 0.7406019]\n",
      "[0.8662125 0.1337875]\n",
      "[0.24251738 0.75748265]\n",
      "[0.28412628 0.7158738 ]\n",
      "[0.4511116  0.54888844]\n",
      "[0.25369948 0.7463005 ]\n",
      "[0.70295143 0.29704863]\n",
      "[0.08438778 0.91561216]\n",
      "[0.7755195  0.22448055]\n",
      "[0.10387293 0.8961271 ]\n",
      "[0.6893529 0.3106471]\n",
      "[0.22895728 0.7710427 ]\n",
      "[0.51593506 0.4840649 ]\n",
      "[0.84877133 0.15122874]\n",
      "[0.64692014 0.35307994]\n",
      "[0.73520535 0.2647946 ]\n",
      "[0.02944431 0.9705557 ]\n",
      "[0.8531022  0.14689778]\n",
      "[0.14657797 0.85342205]\n",
      "[0.82538897 0.17461099]\n",
      "[0.31163168 0.6883683 ]\n",
      "[0.5656521  0.43434796]\n",
      "[0.49997082 0.5000292 ]\n",
      "[0.17706092 0.8229391 ]\n",
      "[0.8379641  0.16203593]\n",
      "[0.38404712 0.61595285]\n",
      "[0.4380668 0.5619332]\n",
      "[0.33415836 0.6658416 ]\n",
      "[0.79421145 0.20578855]\n",
      "[0.6721668  0.32783315]\n",
      "[0.87054735 0.12945269]\n",
      "[0.80514634 0.19485362]\n",
      "[0.8321518  0.16784824]\n",
      "[0.84570384 0.15429619]\n",
      "[0.7032886  0.29671136]\n",
      "[0.00991095 0.99008906]\n",
      "[0.6949704  0.30502957]\n",
      "[0.85018516 0.14981486]\n",
      "[0.25284022 0.7471598 ]\n",
      "[0.29174408 0.7082559 ]\n",
      "[0.6978393 0.3021607]\n",
      "[0.1119885 0.8880115]\n",
      "[0.71155363 0.2884464 ]\n",
      "[0.269133 0.730867]\n",
      "[0.2843031  0.71569693]\n",
      "[0.70531636 0.29468364]\n",
      "[0.6482563  0.35174367]\n",
      "[0.2089584 0.7910416]\n",
      "[0.0143022  0.98569787]\n",
      "[0.15924628 0.84075373]\n",
      "[0.88020295 0.11979701]\n",
      "[0.8339849  0.16601509]\n",
      "[0.77267087 0.22732912]\n",
      "[0.8491993  0.15080069]\n",
      "[0.83982944 0.16017048]\n",
      "[0.73520535 0.2647946 ]\n",
      "[0.21915697 0.7808431 ]\n",
      "[0.0062563 0.9937437]\n",
      "[0.2621066 0.7378934]\n",
      "[0.41672242 0.5832776 ]\n",
      "[0.7555943  0.24440575]\n",
      "[0.00475837 0.99524164]\n",
      "[0.8208557  0.17914434]\n",
      "[0.06542315 0.9345768 ]\n",
      "[0.27140096 0.7285991 ]\n",
      "[0.7609941  0.23900598]\n",
      "[0.11366635 0.88633364]\n",
      "[0.08733837 0.9126616 ]\n",
      "[0.01239806 0.98760194]\n",
      "[0.5872101  0.41278985]\n",
      "[0.846584   0.15341601]\n",
      "[0.00227179 0.99772817]\n",
      "[0.41704205 0.5829579 ]\n",
      "[0.00145596 0.9985441 ]\n",
      "[0.7477786  0.25222138]\n",
      "[0.8703793  0.12962064]\n",
      "[0.8377935 0.1622065]\n",
      "[0.49591276 0.50408727]\n",
      "[0.85521954 0.14478046]\n",
      "[0.12472257 0.8752774 ]\n",
      "[0.06249671 0.9375033 ]\n",
      "[0.30345836 0.6965416 ]\n",
      "[0.2635849 0.7364151]\n",
      "[0.7596717  0.24032831]\n",
      "[0.1530526  0.84694743]\n",
      "[0.05087697 0.9491231 ]\n",
      "[0.14729227 0.85270774]\n",
      "[0.88897395 0.11102601]\n",
      "[0.13540155 0.86459845]\n",
      "[0.24494724 0.7550528 ]\n",
      "[0.25278875 0.7472113 ]\n",
      "[0.88517195 0.11482812]\n",
      "[0.01662511 0.98337495]\n",
      "[0.22994146 0.7700585 ]\n",
      "[0.85191226 0.14808777]\n",
      "[0.2227224  0.77727765]\n",
      "[0.85192436 0.14807558]\n",
      "[0.10265226 0.89734775]\n",
      "[0.25899208 0.741008  ]\n",
      "[0.8413943  0.15860566]\n",
      "[0.20641683 0.79358315]\n",
      "[0.09963446 0.9003656 ]\n",
      "[0.80986834 0.19013171]\n",
      "[0.8497674 0.1502326]\n",
      "[0.17970772 0.82029223]\n",
      "[0.81855786 0.18144214]\n",
      "[0.7503144  0.24968566]\n",
      "[0.75265974 0.2473403 ]\n",
      "[0.8643134  0.13568659]\n",
      "[0.25305328 0.74694675]\n",
      "[0.8408984  0.15910167]\n",
      "[0.8831691  0.11683088]\n",
      "[0.8531022  0.14689778]\n",
      "[0.8399019  0.16009806]\n",
      "[0.6071107  0.39288932]\n",
      "[0.7377684  0.26223162]\n",
      "[0.01229077 0.9877093 ]\n",
      "[0.82962745 0.17037252]\n",
      "[0.8436248  0.15637523]\n",
      "[0.23345117 0.7665489 ]\n",
      "[0.01192067 0.98807937]\n",
      "[0.8061576 0.1938424]\n",
      "[0.8205075  0.17949249]\n",
      "[0.8497674 0.1502326]\n",
      "[0.35632274 0.64367723]\n",
      "[0.7609989  0.23900108]\n",
      "[0.7663983 0.2336017]\n",
      "[0.8676616  0.13233842]\n",
      "[0.76638234 0.23361766]\n",
      "[0.8314218  0.16857821]\n",
      "[0.641696   0.35830405]\n",
      "[0.6763622  0.32363775]\n",
      "[0.4797002 0.5202998]\n",
      "[0.75194085 0.24805912]\n",
      "[0.66797787 0.33202207]\n",
      "[0.6955126  0.30448738]\n",
      "[0.27581397 0.724186  ]\n",
      "[0.76638234 0.23361766]\n",
      "[0.23299219 0.7670078 ]\n",
      "[0.8141336  0.18586636]\n",
      "[0.01965619 0.9803438 ]\n",
      "[0.15523323 0.84476674]\n",
      "[0.85670185 0.1432981 ]\n",
      "[0.00743896 0.99256104]\n",
      "[0.7116022 0.2883978]\n",
      "[0.76069254 0.2393074 ]\n",
      "[0.01306741 0.9869326 ]\n",
      "[0.83938825 0.16061167]\n",
      "[0.12068407 0.8793159 ]\n",
      "[0.85018516 0.14981486]\n",
      "[0.47853726 0.5214628 ]\n",
      "[0.8747575  0.12524246]\n",
      "[0.81855786 0.18144214]\n",
      "[0.23269504 0.76730496]\n",
      "[0.05178091 0.9482191 ]\n",
      "[0.7292602 0.2707398]\n",
      "[0.3234188 0.6765812]\n",
      "[0.8381682  0.16183178]\n",
      "[0.8129763 0.1870237]\n",
      "[0.6931634  0.30683663]\n",
      "[0.60945904 0.390541  ]\n",
      "[0.01089161 0.98910844]\n",
      "[0.34320515 0.65679485]\n",
      "[0.834438   0.16556194]\n",
      "[0.36020428 0.6397958 ]\n",
      "[0.23269157 0.76730835]\n",
      "[0.21381703 0.78618294]\n",
      "[0.68367904 0.31632096]\n",
      "[0.11783945 0.8821606 ]\n",
      "[0.79351956 0.20648043]\n",
      "[0.4872091 0.5127909]\n",
      "[0.04285738 0.95714265]\n",
      "[0.80898327 0.19101673]\n",
      "[0.8437817  0.15621829]\n",
      "[0.18242766 0.81757236]\n",
      "[0.23152412 0.7684759 ]\n",
      "[0.45464015 0.54535985]\n",
      "[0.8043073  0.19569272]\n",
      "[0.75924367 0.24075632]\n",
      "[0.7581192  0.24188079]\n",
      "[0.8747575  0.12524246]\n",
      "[0.82095605 0.17904389]\n",
      "[5.3676043e-04 9.9946326e-01]\n",
      "[0.14192021 0.8580798 ]\n",
      "[0.8429229  0.15707709]\n",
      "[0.16138211 0.83861786]\n",
      "[0.3746623  0.62533766]\n",
      "[0.76006186 0.23993811]\n",
      "[0.82899135 0.1710087 ]\n",
      "[0.71417266 0.28582734]\n",
      "[0.8340083  0.16599166]\n",
      "[0.23303966 0.7669603 ]\n",
      "[0.827546   0.17245401]\n",
      "[0.22300965 0.77699035]\n",
      "[0.3981873  0.60181266]\n",
      "[0.85507596 0.144924  ]\n",
      "[0.7623755  0.23762447]\n",
      "[0.13763279 0.8623672 ]\n",
      "[0.25866967 0.7413303 ]\n",
      "[0.8243576  0.17564237]\n",
      "[0.5731869  0.42681313]\n",
      "[0.6762715  0.32372856]\n",
      "[0.01487056 0.9851295 ]\n",
      "[0.00923748 0.99076253]\n",
      "[0.8292658  0.17073421]\n",
      "[0.23893337 0.7610666 ]\n",
      "[0.8387884  0.16121157]\n",
      "[0.7663983 0.2336017]\n",
      "[0.15207687 0.84792316]\n",
      "[0.8185973 0.1814027]\n",
      "[0.00120758 0.9987924 ]\n",
      "[0.1534442 0.8465558]\n",
      "[0.8468659  0.15313415]\n",
      "[0.25249115 0.7475089 ]\n",
      "[0.79021364 0.20978628]\n",
      "[0.6884908  0.31150913]\n",
      "[0.8509962  0.14900385]\n",
      "[0.25137317 0.7486269 ]\n",
      "[0.29497227 0.70502776]\n",
      "[0.87701994 0.12298007]\n",
      "[0.72046584 0.27953413]\n",
      "[0.11611263 0.88388735]\n",
      "[0.4364759  0.56352407]\n",
      "[0.02088864 0.9791114 ]\n",
      "[0.5514861  0.44851393]\n",
      "[0.6805283  0.31947172]\n",
      "[0.83616626 0.16383378]\n",
      "[0.8284609  0.17153908]\n",
      "[0.9125366  0.08746337]\n",
      "[0.11100387 0.88899606]\n",
      "[0.12377268 0.8762273 ]\n",
      "[0.76638234 0.23361766]\n",
      "[0.6782633 0.3217367]\n",
      "[0.05946919 0.9405308 ]\n",
      "[0.21009593 0.7899041 ]\n",
      "[0.8457919 0.1542081]\n",
      "[0.01917548 0.9808246 ]\n",
      "[0.10145081 0.8985492 ]\n",
      "[0.8583881  0.14161196]\n",
      "[0.24528594 0.754714  ]\n",
      "[0.6949704  0.30502957]\n",
      "[0.37784562 0.6221545 ]\n"
     ]
    }
   ],
   "source": [
    "for pred in pred_dicts:\n",
    "    print(pred['probabilities'])"
   ]
  },
  {
   "cell_type": "code",
   "execution_count": 130,
   "metadata": {},
   "outputs": [
    {
     "name": "stdout",
     "output_type": "stream",
     "text": [
      "This person: \n",
      "sex                        female\n",
      "age                          55.0\n",
      "n_siblings_spouses              0\n",
      "parch                           0\n",
      "fare                         16.0\n",
      "class                      Second\n",
      "deck                      unknown\n",
      "embark_town           Southampton\n",
      "alone                           y\n",
      "Name: 3, dtype: object\n",
      "Did they survive? 1\n",
      "Predicted survival 0.8276799917221069\n"
     ]
    }
   ],
   "source": [
    "print(f'This person: \\n{dfeval.loc[3]}')\n",
    "print(f'Did they survive? {y_eval[3]}')\n",
    "print(f'redicted survival {pred_dicts[3][\"probabilities\"][1]}')"
   ]
  },
  {
   "cell_type": "markdown",
   "metadata": {},
   "source": [
    "# Classification"
   ]
  },
  {
   "cell_type": "code",
   "execution_count": 139,
   "metadata": {},
   "outputs": [],
   "source": [
    "from __future__ import absolute_import, division, print_function, unicode_literals\n",
    "\n",
    "\n",
    "import tensorflow as tf\n",
    "\n",
    "import pandas as pd"
   ]
  },
  {
   "cell_type": "code",
   "execution_count": null,
   "metadata": {},
   "outputs": [],
   "source": []
  }
 ],
 "metadata": {
  "kernelspec": {
   "display_name": "Python 3",
   "language": "python",
   "name": "python3"
  },
  "language_info": {
   "codemirror_mode": {
    "name": "ipython",
    "version": 3
   },
   "file_extension": ".py",
   "mimetype": "text/x-python",
   "name": "python",
   "nbconvert_exporter": "python",
   "pygments_lexer": "ipython3",
   "version": "3.7.3"
  }
 },
 "nbformat": 4,
 "nbformat_minor": 2
}
